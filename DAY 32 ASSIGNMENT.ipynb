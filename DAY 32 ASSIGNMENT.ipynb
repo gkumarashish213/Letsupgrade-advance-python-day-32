{
 "cells": [
  {
   "cell_type": "markdown",
   "metadata": {},
   "source": [
    "# Apply multi-threading to server_code so that It could give the service to multiple clients."
   ]
  },
  {
   "cell_type": "code",
   "execution_count": null,
   "metadata": {},
   "outputs": [
    {
     "name": "stdout",
     "output_type": "stream",
     "text": [
      "socket binded to port 12345\n",
      "socket is listening\n"
     ]
    }
   ],
   "source": [
    "# import socket programming library \n",
    "import socket \n",
    "\n",
    "# import thread module \n",
    "from _thread import *\n",
    "import threading \n",
    "\n",
    "print_lock = threading.Lock() \n",
    "\n",
    "# thread function \n",
    "def threaded(c): \n",
    "\twhile True: \n",
    "\n",
    "\t\t# data received from client \n",
    "\t\tdata = c.recv(1024) \n",
    "\t\tif not data: \n",
    "\t\t\tprint('Bye') \n",
    "\t\t\t\n",
    "\t\t\t# lock released on exit \n",
    "\t\t\tprint_lock.release() \n",
    "\t\t\tbreak\n",
    "\n",
    "\t\t# reverse the given string from client \n",
    "\t\tdata = data[::-1] \n",
    "\n",
    "\t\t# send back reversed string to client \n",
    "\t\tc.send(data) \n",
    "\n",
    "\t# connection closed \n",
    "\tc.close() \n",
    "\n",
    "\n",
    "def Main(): \n",
    "\thost = \"\" \n",
    "\n",
    "\t# reverse a port on your computer \n",
    "\t# in our case it is 12345 but it \n",
    "\t# can be anything \n",
    "\tport = 12345\n",
    "\ts = socket.socket(socket.AF_INET, socket.SOCK_STREAM) \n",
    "\ts.bind((host, port)) \n",
    "\tprint(\"socket binded to port\", port) \n",
    "\n",
    "\t# put the socket into listening mode \n",
    "\ts.listen(5) \n",
    "\tprint(\"socket is listening\") \n",
    "\n",
    "\t# a forever loop until client wants to exit \n",
    "\twhile True: \n",
    "\n",
    "\t\t# establish connection with client \n",
    "\t\tc, addr = s.accept() \n",
    "\n",
    "\t\t# lock acquired by client \n",
    "\t\tprint_lock.acquire() \n",
    "\t\tprint('Connected to :', addr[0], ':', addr[1]) \n",
    "\n",
    "\t\t# Start a new thread and return its identifier \n",
    "\t\tstart_new_thread(threaded, (c,)) \n",
    "\ts.close() \n",
    "\n",
    "\n",
    "if __name__ == '__main__': \n",
    "\tMain() \n"
   ]
  },
  {
   "cell_type": "code",
   "execution_count": null,
   "metadata": {},
   "outputs": [],
   "source": [
    "\n"
   ]
  },
  {
   "cell_type": "code",
   "execution_count": null,
   "metadata": {},
   "outputs": [],
   "source": []
  }
 ],
 "metadata": {
  "kernelspec": {
   "display_name": "Python 3",
   "language": "python",
   "name": "python3"
  },
  "language_info": {
   "codemirror_mode": {
    "name": "ipython",
    "version": 3
   },
   "file_extension": ".py",
   "mimetype": "text/x-python",
   "name": "python",
   "nbconvert_exporter": "python",
   "pygments_lexer": "ipython3",
   "version": "3.7.4"
  }
 },
 "nbformat": 4,
 "nbformat_minor": 2
}
